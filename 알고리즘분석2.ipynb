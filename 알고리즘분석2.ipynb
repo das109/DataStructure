{
  "nbformat": 4,
  "nbformat_minor": 0,
  "metadata": {
    "colab": {
      "name": "알고리즘분석2.ipynb",
      "provenance": [],
      "collapsed_sections": []
    },
    "kernelspec": {
      "name": "python3",
      "display_name": "Python 3"
    },
    "language_info": {
      "name": "python"
    }
  },
  "cells": [
    {
      "cell_type": "code",
      "metadata": {
        "id": "EbvNW8NiEiLt"
      },
      "source": [
        "n = int(input())\n",
        "i = 0\n",
        "li = []\n",
        "for i in range(0, n):\n",
        " a = list(map(int,input().split()))\n",
        " li.append(a)\n",
        "\n",
        "i = 0\n",
        "j = 0\n",
        "row = 0\n",
        "\n",
        "while (1):\n",
        "  if (i == n) or (j == n):\n",
        "    break\n",
        "  \n",
        "  if (li[i][j] == 0):\n",
        "    i +=1\n",
        "  else:\n",
        "    row = i\n",
        "    j +=1\n",
        "\n",
        "\n",
        "print(row)"
      ],
      "execution_count": null,
      "outputs": []
    }
  ]
}