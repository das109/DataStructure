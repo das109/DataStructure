{
  "nbformat": 4,
  "nbformat_minor": 0,
  "metadata": {
    "colab": {
      "name": "트리3.ipynb",
      "provenance": [],
      "collapsed_sections": []
    },
    "kernelspec": {
      "name": "python3",
      "display_name": "Python 3"
    },
    "language_info": {
      "name": "python"
    }
  },
  "cells": [
    {
      "cell_type": "code",
      "metadata": {
        "id": "EbvNW8NiEiLt"
      },
      "source": [
        "class Node:\n",
        "    def __init__(self, data, id):\n",
        "      self.data = data\n",
        "      self.id = id\n",
        "      self.left = None\n",
        "      self.right = None\n",
        "    def __str__(self):\n",
        "        return str(self.data)\n",
        "\n",
        "class Tree:\n",
        "  def __init__(self):\n",
        "      self.root = None\n",
        "\n",
        "  def addNode(self, node, left_node, right_node):\n",
        "      if self.root == None:\n",
        "          self.root = node\n",
        "      node.left = left_node\n",
        "      node.right = right_node\n",
        "\n",
        "\n",
        "  def Search(self, Node, id):\n",
        "      now_node = Node\n",
        "      if (now_node.left != None) and (now_node.left.data is not None): \n",
        "          self.Search(now_node.left, id)\n",
        "      if (now_node.right != None) and (now_node.left.data is not None): \n",
        "          self.Search(now_node.right, id)\n",
        "      if (now_node.id == id):\n",
        "          node = now_node\n",
        "          print(self.Order(node))\n",
        "\n",
        "\n",
        "  def Order(self, node):\n",
        "        sum = node.data\n",
        "        if (node.left != None) and (node.left.data is not None): \n",
        "          sum = sum + self.Order(node.left)\n",
        "        if (node.right != None) and (node.right.data is not None): \n",
        "          sum = sum + self.Order(node.right)\n",
        "      \n",
        "        #print(node.data, end=' ')\n",
        "        #if (node.left != None) and (node.left.data is not None): \n",
        "          #return sum + self.Order(node.left)\n",
        "        #if (node.right != None) and (node.right.data is not None): \n",
        "          #return sum + self.Order(node.left)\n",
        "      \n",
        "        return sum\n",
        "  \n",
        "\n",
        "\n",
        "li_tree = ['*', Node(20, 1), Node(30, 2), Node(50, 3), Node(70, 4), Node(90, 5), Node(120, 6), Node(130, 7), Node(80, 8)]\n",
        "\n",
        "tree = Tree()\n",
        "tree.addNode(li_tree[1], li_tree[2], li_tree[3])\n",
        "tree.addNode(li_tree[2], li_tree[4], li_tree[5])\n",
        "tree.addNode(li_tree[3], li_tree[6], None)\n",
        "tree.addNode(li_tree[6], li_tree[7], li_tree[8])\n",
        "\n",
        "\n",
        "\n",
        "id = input()\n",
        "if (int(id) >= len(li_tree)):\n",
        "  print(-1)\n",
        "\n",
        "else:\n",
        "  sum = tree.Search(tree.root, int(id))\n",
        "  "
      ],
      "execution_count": null,
      "outputs": []
    }
  ]
}