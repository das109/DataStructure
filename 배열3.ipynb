{
  "nbformat": 4,
  "nbformat_minor": 0,
  "metadata": {
    "colab": {
      "name": "배열3.ipynb",
      "provenance": [],
      "collapsed_sections": []
    },
    "kernelspec": {
      "name": "python3",
      "display_name": "Python 3"
    },
    "language_info": {
      "name": "python"
    }
  },
  "cells": [
    {
      "cell_type": "code",
      "metadata": {
        "id": "EbvNW8NiEiLt"
      },
      "source": [
        "n = int(input())\n",
        "li = [[0 for j in range(n)] for i in range(n)]\n",
        "i = 0\n",
        "\n",
        "\n",
        "for i in range(0, n):\n",
        "  if (i % 2 == 0):\n",
        "    for j in range(0, n):\n",
        "      li[i][j] = (i*n)+j+1\n",
        "      \n",
        "\n",
        "  elif (i % 2 == 1):\n",
        "    for j in range(0, n):\n",
        "      li[i][n-j-1] = (i*n)+j+1\n",
        "      \n",
        "\n",
        "for k in li:\n",
        "  k = list(map(str, k))\n",
        "  print (' ', end='')\n",
        "  print(' '.join(k))\n"
      ],
      "execution_count": null,
      "outputs": []
    }
  ]
}