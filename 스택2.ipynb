{
  "nbformat": 4,
  "nbformat_minor": 0,
  "metadata": {
    "colab": {
      "name": "스택2.ipynb",
      "provenance": [],
      "collapsed_sections": []
    },
    "kernelspec": {
      "name": "python3",
      "display_name": "Python 3"
    },
    "language_info": {
      "name": "python"
    }
  },
  "cells": [
    {
      "cell_type": "code",
      "metadata": {
        "id": "EbvNW8NiEiLt"
      },
      "source": [
        "str = input()\n",
        "stack = list(str)\n",
        "\n",
        "if (len(stack) > 1000):\n",
        "  print(\"문자열의 개수가 너무 많습니다.\")\n",
        "\n",
        "i = 0\n",
        "li = list()\n",
        "for i in range(0, len(stack)):\n",
        "  data = stack.pop()\n",
        "  if (data == \"{\") or (data == \"}\") or (data == \"[\") or (data == \"]\") or (data == \")\") or (data == \"(\"):\n",
        "    li.append(data)\n",
        "\n",
        "\n",
        "a = li[:]\n",
        "stack_a = list()\n",
        "#print(a)\n",
        "n = len(a)\n",
        "for i in range(0, len(a)):\n",
        "  \n",
        "  d = a.pop()\n",
        "  \n",
        "  #print(\"d는 \"+d)\n",
        "  \n",
        "\n",
        "  if (d == \"{\") or (d == \"[\") or (d == \"(\"):\n",
        "    stack_a.append(d)\n",
        "    #print(stack_a)\n",
        "\n",
        "  if (d == '}') or (d == ']') or (d == ')'):\n",
        "    if (len(stack_a) == 0):\n",
        "      stack_a.append(d)\n",
        "      break\n",
        "    now = stack_a[-1]\n",
        "    if (d == \"}\") and (now == \"{\"):\n",
        "      stack_a.pop()\n",
        "    if (d == \"]\") and (now == \"[\"):\n",
        "      stack_a.pop()\n",
        "    if (d == \")\") and (now == \"(\"):\n",
        "      stack_a.pop()\n",
        "    #print(stack_a)\n",
        "\n",
        "if (len(stack_a) == 0):\n",
        "  print(\"OK_\", end='')\n",
        "  print(len(li))\n",
        "\n",
        "if (len(stack_a) != 0):\n",
        "  print(\"Wrong_\", end='')\n",
        "  print(len(li))"
      ],
      "execution_count": null,
      "outputs": []
    }
  ]
}