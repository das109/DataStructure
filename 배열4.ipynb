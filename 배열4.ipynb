{
  "nbformat": 4,
  "nbformat_minor": 0,
  "metadata": {
    "colab": {
      "name": "배열4.ipynb",
      "provenance": [],
      "collapsed_sections": []
    },
    "kernelspec": {
      "name": "python3",
      "display_name": "Python 3"
    },
    "language_info": {
      "name": "python"
    }
  },
  "cells": [
    {
      "cell_type": "code",
      "metadata": {
        "id": "EbvNW8NiEiLt"
      },
      "source": [
        "def Make_array(li, n, m, i, j, max, cnt):\n",
        "\n",
        "  if (cnt > max):\n",
        "    return li\n",
        "  \n",
        "  else:\n",
        "\n",
        "    for y in range(0, m): #첫번째 가로\n",
        "      li[i][j+y] = cnt\n",
        "      cnt = cnt+1\n",
        "\n",
        "    \n",
        "    if (n > 1):   #두번째  세로\n",
        "\n",
        "      for x in range(1, n):\n",
        "        li[i+x][(m+j)-1] = cnt\n",
        "        cnt = cnt+1\n",
        "\n",
        "    \n",
        "    if (n > 1) and (m > 1): \n",
        "\n",
        "      for y in range(1, m): #세번째 가로\n",
        "        li[(n+i)-1][(m+j)-y-1] = cnt\n",
        "        cnt = cnt+1\n",
        " \n",
        "      for x in range(1, n-1): #네번째 세로\n",
        "        li[(n+i)-x-1][j] = cnt\n",
        "        cnt = cnt+1\n",
        "\n",
        "    \n",
        "  return Make_array(li, n-2, m-2, i+1, j+1, max, cnt)\n",
        "\n",
        "    \n",
        "n, m = input().split()\n",
        "n = int(n)\n",
        "m = int(m)\n",
        "li = [[0 for j in range(m)] for i in range(n)]\n",
        "max = n * m\n",
        "i = 0\n",
        "j = 0\n",
        "cnt = 1\n",
        "li = Make_array(li, n, m, i, j, max, cnt)\n",
        "\n",
        "for k in li:\n",
        "  k = list(map(str, k))\n",
        "  print (' ', end='')\n",
        "  print(' '.join(k))\n",
        "\n"
      ],
      "execution_count": null,
      "outputs": []
    }
  ]
}