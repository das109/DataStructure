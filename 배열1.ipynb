{
  "nbformat": 4,
  "nbformat_minor": 0,
  "metadata": {
    "colab": {
      "name": "배열1.ipynb",
      "provenance": [],
      "collapsed_sections": []
    },
    "kernelspec": {
      "name": "python3",
      "display_name": "Python 3"
    },
    "language_info": {
      "name": "python"
    }
  },
  "cells": [
    {
      "cell_type": "code",
      "metadata": {
        "id": "EbvNW8NiEiLt"
      },
      "source": [
        "def reverseNum(li, start, end): #짝수일 때 홀수일 때 고려\n",
        "  j = 0\n",
        "  if (end-start)%2 == 0:\n",
        "    for j in range(0, (end-start)//2):\n",
        "      tmp = li[start+j]\n",
        "      li[start+j] = li[end-j]\n",
        "      li[end-j] = tmp\n",
        "    return li\n",
        "\n",
        "  if (end-start)%2 == 1:\n",
        "    for j in range(0, (end-start+1)//2):\n",
        "      tmp = li[start+j]\n",
        "      li[start+j] = li[end-j]\n",
        "      li[end-j] = tmp\n",
        "    return li\n",
        "\n",
        "\n",
        "n = int(input())\n",
        "li = list(map(int,input().split()))\n",
        "\n",
        "a = int(input())\n",
        "a_li = list(map(int,input().split()))\n",
        "\n",
        "i = 0\n",
        "\n",
        "for i in range(0, a): #i값 고려\n",
        "  start = a_li[2*i]\n",
        "  end = a_li[(2*i)+1]\n",
        "  li = reverseNum(li, start, end)\n",
        "  i = i+1\n",
        "\n",
        "li = list(map(str, li))\n",
        "print (' ', end='')\n",
        "print(' '.join(li))"
      ],
      "execution_count": null,
      "outputs": []
    }
  ]
}