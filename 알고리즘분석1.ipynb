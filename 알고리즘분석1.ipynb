{
  "nbformat": 4,
  "nbformat_minor": 0,
  "metadata": {
    "colab": {
      "name": "알고리즘분석1.ipynb",
      "provenance": [],
      "collapsed_sections": []
    },
    "kernelspec": {
      "name": "python3",
      "display_name": "Python 3"
    },
    "language_info": {
      "name": "python"
    }
  },
  "cells": [
    {
      "cell_type": "code",
      "metadata": {
        "id": "EbvNW8NiEiLt"
      },
      "source": [
        "a, b = input().split()\n",
        "a = int(a)\n",
        "b = int(b)\n",
        "\n",
        "while (1):\n",
        "  if (a < b):\n",
        "    print(a)\n",
        "    break\n",
        "  c = a - b\n",
        "  if (c < b):\n",
        "    print(c)\n",
        "    break\n",
        "  a = c"
      ],
      "execution_count": null,
      "outputs": []
    }
  ]
}