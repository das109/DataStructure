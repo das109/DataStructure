{
  "nbformat": 4,
  "nbformat_minor": 0,
  "metadata": {
    "colab": {
      "name": "재귀5.ipynb",
      "provenance": [],
      "collapsed_sections": []
    },
    "kernelspec": {
      "name": "python3",
      "display_name": "Python 3"
    },
    "language_info": {
      "name": "python"
    }
  },
  "cells": [
    {
      "cell_type": "code",
      "metadata": {
        "id": "EbvNW8NiEiLt"
      },
      "source": [
        "def hanoi(n, h_from, h_to, h_tmp):\n",
        "  \n",
        "  if n == 1: #작대기에 가장 큰 원반만 남음\n",
        "    print(h_from, h_to) \n",
        "    return\n",
        "    \n",
        "  hanoi(n-1, h_from, h_tmp, h_to) #가장 큰 원반 빼고 나머지 원반을 보조작대기로 옮겨야함\n",
        "  \n",
        "  print(h_from, h_to) \n",
        "\n",
        "  hanoi(n-1, h_tmp, h_to, h_from) #보조작대기에 있는 원반을 도착작대기로 옮겨야함\n",
        "\n",
        "n = int(input())\n",
        "hanoi(n, \"A\", \"C\", \"B\") "
      ],
      "execution_count": null,
      "outputs": []
    }
  ]
}