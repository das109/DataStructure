{
  "nbformat": 4,
  "nbformat_minor": 0,
  "metadata": {
    "colab": {
      "name": "배열2.ipynb",
      "provenance": [],
      "collapsed_sections": []
    },
    "kernelspec": {
      "name": "python3",
      "display_name": "Python 3"
    },
    "language_info": {
      "name": "python"
    }
  },
  "cells": [
    {
      "cell_type": "code",
      "metadata": {
        "id": "EbvNW8NiEiLt"
      },
      "source": [
        "n = int(input())\n",
        "li = list(map(int,input().split()))\n",
        "\n",
        "a = int(input())\n",
        "a_li = list(map(int,input().split()))\n",
        "\n",
        "i = 0\n",
        "tmp = li[a_li[0]]\n",
        "for i in range(0, a-1): #i값 고려\n",
        "  goto = a_li[i+1]\n",
        "  tmp2 = li[goto]\n",
        "  li[goto] = tmp\n",
        "  tmp = tmp2\n",
        "\n",
        "  \n",
        "\n",
        "li = list(map(str, li))\n",
        "print (' ', end='')\n",
        "print(' '.join(li))\n"
      ],
      "execution_count": null,
      "outputs": []
    }
  ]
}