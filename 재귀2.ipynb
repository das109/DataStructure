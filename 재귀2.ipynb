{
  "nbformat": 4,
  "nbformat_minor": 0,
  "metadata": {
    "colab": {
      "name": "재귀2.ipynb",
      "provenance": [],
      "collapsed_sections": []
    },
    "kernelspec": {
      "name": "python3",
      "display_name": "Python 3"
    },
    "language_info": {
      "name": "python"
    }
  },
  "cells": [
    {
      "cell_type": "code",
      "metadata": {
        "id": "EbvNW8NiEiLt"
      },
      "source": [
        "def P_digit(n):\n",
        "  if (n == 0):\n",
        "    return\n",
        "  else:\n",
        "    P_digit(n//10)\n",
        "    print(n%10)\n",
        "    \n",
        "    \n",
        "n = int(input())\n",
        "P_digit(n)"
      ],
      "execution_count": null,
      "outputs": []
    }
  ]
}