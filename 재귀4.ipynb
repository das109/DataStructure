{
  "nbformat": 4,
  "nbformat_minor": 0,
  "metadata": {
    "colab": {
      "name": "재귀4.ipynb",
      "provenance": [],
      "collapsed_sections": []
    },
    "kernelspec": {
      "name": "python3",
      "display_name": "Python 3"
    },
    "language_info": {
      "name": "python"
    }
  },
  "cells": [
    {
      "cell_type": "code",
      "metadata": {
        "id": "EbvNW8NiEiLt"
      },
      "source": [
        "def Rmax(li, n):\n",
        "  if (n == 0):\n",
        "    return li[0]\n",
        "  else:\n",
        "    max = Rmax(li, n-1)\n",
        "    if (max < li[n-1]):\n",
        "      return li[n-1]\n",
        "    else:\n",
        "      return max\n",
        "    \n",
        "n = int(input())\n",
        "li = list(map(int,input().split()))\n",
        "\n",
        "final = Rmax(li, n)\n",
        "print(final)"
      ],
      "execution_count": null,
      "outputs": []
    }
  ]
}