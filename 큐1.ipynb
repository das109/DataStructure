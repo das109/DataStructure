{
  "nbformat": 4,
  "nbformat_minor": 0,
  "metadata": {
    "colab": {
      "name": "큐1.ipynb",
      "provenance": [],
      "collapsed_sections": []
    },
    "kernelspec": {
      "name": "python3",
      "display_name": "Python 3"
    },
    "language_info": {
      "name": "python"
    }
  },
  "cells": [
    {
      "cell_type": "code",
      "metadata": {
        "id": "EbvNW8NiEiLt"
      },
      "source": [
        "q = int(input())\n",
        "n = int(input())\n",
        "\n",
        "qu = [0 for i in range(q)]\n",
        "\n",
        "rear = 0\n",
        "front = 0\n",
        "\n",
        "for i in range(0, n):\n",
        "  #print(\"현재\")\n",
        "  #Iprint(qu)\n",
        "  \n",
        "  string = str(input())\n",
        "  li = string.split()\n",
        "  \n",
        "\n",
        "  if (li[0] == 'I'):\n",
        "    b = int(li[1])\n",
        "    rear += 1\n",
        "    if rear  == q:\n",
        "      rear  = 0\n",
        "    if front == rear:\n",
        "      print(\"overflow\", end =' ')\n",
        "      for i in qu:\n",
        "        print(i, end =' ') \n",
        "      break\n",
        "    qu[rear] = b\n",
        "    \n",
        "  elif (li[0] == 'D'):\n",
        "    front += 1\n",
        "    if front == q:\n",
        "      front = 0\n",
        "    if front == rear+1:\n",
        "      print(\"underflow\") \n",
        "      break\n",
        "    qu[front] = 0\n",
        "\n",
        "  elif (li[0] == 'P'):\n",
        "    print(' ', end =' ')\n",
        "    for i in qu:\n",
        "      print(i, end =' ')\n",
        "    print(\"\")"
      ],
      "execution_count": null,
      "outputs": []
    }
  ]
}