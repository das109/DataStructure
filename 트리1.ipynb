{
  "nbformat": 4,
  "nbformat_minor": 0,
  "metadata": {
    "colab": {
      "name": "트리1.ipynb",
      "provenance": [],
      "collapsed_sections": []
    },
    "kernelspec": {
      "name": "python3",
      "display_name": "Python 3"
    },
    "language_info": {
      "name": "python"
    }
  },
  "cells": [
    {
      "cell_type": "code",
      "metadata": {
        "id": "EbvNW8NiEiLt"
      },
      "source": [
        "class Node:\n",
        "    def __init__(self, data):\n",
        "      self.data = data\n",
        "      self.left = None\n",
        "      self.right = None\n",
        "    def __str__(self):\n",
        "        return str(self.data)\n",
        "\n",
        "class Tree:\n",
        "  def __init__(self):\n",
        "      self.root = None\n",
        "\n",
        "  def addNode(self, node, left_node, right_node):\n",
        "      if self.root == None:\n",
        "          self.root = node\n",
        "      node.left = left_node\n",
        "      node.right = right_node\n",
        "\n",
        "  def PrintNode(self, node):\n",
        "      print(node.data, end=' ')\n",
        "      if (node.left != None) and (node.left.data is not None):\n",
        "          print(node.left.data, end=' ')\n",
        "      if (node.right != None) and (node.right.data is not None):\n",
        "          print(node.right.data, end=' ')\n",
        "\n",
        "li_tree = ['*', Node(20), Node(30), Node(50), Node(70), Node(90), Node(120), Node(130), Node(80)]\n",
        "\n",
        "tree = Tree()\n",
        "tree.addNode(li_tree[1], li_tree[2], li_tree[3])\n",
        "tree.addNode(li_tree[2], li_tree[4], li_tree[5])\n",
        "tree.addNode(li_tree[3], li_tree[6], Node(None))\n",
        "tree.addNode(li_tree[6], li_tree[7], li_tree[8])\n",
        "\n",
        "\n",
        "\n",
        "n = int(input())\n",
        "if (n >= len(li_tree)):\n",
        "  print(-1)\n",
        "\n",
        "else:\n",
        "  a = li_tree[n]\n",
        "  #print(a)\n",
        "  tree.PrintNode(a)\n",
        "  "
      ],
      "execution_count": null,
      "outputs": []
    }
  ]
}