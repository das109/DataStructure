{
  "nbformat": 4,
  "nbformat_minor": 0,
  "metadata": {
    "colab": {
      "name": "재귀7.ipynb",
      "provenance": [],
      "collapsed_sections": []
    },
    "kernelspec": {
      "name": "python3",
      "display_name": "Python 3"
    },
    "language_info": {
      "name": "python"
    }
  },
  "cells": [
    {
      "cell_type": "code",
      "metadata": {
        "id": "EbvNW8NiEiLt"
      },
      "source": [
        "def count(li, c, index):\n",
        "  if li[index] in c:\n",
        "    cnt = 1\n",
        "  else:\n",
        "    cnt = 0\n",
        "  if (index == 0):\n",
        "    return cnt\n",
        "  return cnt+count(li, c, index-1)\n",
        "\n",
        "a = input()\n",
        "c = input()\n",
        "li = list(a)\n",
        "\n",
        "final = count(li, c, len(li)-1)\n",
        "print(final)"
      ],
      "execution_count": null,
      "outputs": []
    }
  ]
}