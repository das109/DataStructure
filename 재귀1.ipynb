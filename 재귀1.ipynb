{
  "nbformat": 4,
  "nbformat_minor": 0,
  "metadata": {
    "colab": {
      "name": "재귀1.ipynb",
      "provenance": [],
      "collapsed_sections": []
    },
    "kernelspec": {
      "name": "python3",
      "display_name": "Python 3"
    },
    "language_info": {
      "name": "python"
    }
  },
  "cells": [
    {
      "cell_type": "code",
      "metadata": {
        "id": "EbvNW8NiEiLt"
      },
      "source": [
        "def Rsum(n):\n",
        "    return (n * (n + 1)) // 2\n",
        "\n",
        "n = int(input())\n",
        "sum = Rsum(n)\n",
        "print(sum)"
      ],
      "execution_count": null,
      "outputs": []
    }
  ]
}