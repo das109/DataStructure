{
  "nbformat": 4,
  "nbformat_minor": 0,
  "metadata": {
    "colab": {
      "name": "스택4.ipynb",
      "provenance": [],
      "collapsed_sections": []
    },
    "kernelspec": {
      "name": "python3",
      "display_name": "Python 3"
    },
    "language_info": {
      "name": "python"
    }
  },
  "cells": [
    {
      "cell_type": "code",
      "metadata": {
        "id": "EbvNW8NiEiLt"
      },
      "source": [
        "def preorder(word):\n",
        "\n",
        "  if (word == '*'):\n",
        "    check = 4\n",
        "  elif (word == '/'):\n",
        "    check = 3\n",
        "  elif (word == '+'):\n",
        "    check = 2\n",
        "  elif (word == '-'):\n",
        "    check = 1\n",
        "  else:\n",
        "    check = 0\n",
        "  \n",
        "  return check\n",
        "  \n",
        "  \n",
        "  \n",
        "  \n",
        "  \n",
        "n = int(input())\n",
        "\n",
        "for i in range(0, n):\n",
        "  string = str(input()) #문자열을 리스트로 저장\n",
        "  Slist = list(string)\n",
        "  stack = []\n",
        "  a = len(Slist)\n",
        "\n",
        "\n",
        "  for i in Slist: \n",
        "\n",
        "    check = preorder(i)\n",
        "    #print(stack)\n",
        "    if (check == 0):\n",
        "      stack.append(i)\n",
        "    else:\n",
        "      a = int(stack.pop())\n",
        "      b = int(stack.pop())\n",
        "\n",
        "      if (check == 4):\n",
        "        result = b * a\n",
        "      elif (check == 3):\n",
        "        result = b // a\n",
        "      elif (check == 2):\n",
        "        result = b + a\n",
        "      elif (check == 1):\n",
        "        result = b - a\n",
        "      #print(\"result는 \"+str(result))\n",
        "      stack.append(result)\n",
        "\n",
        "\n",
        "  for i in stack:\n",
        "    print(i, end ='')\n",
        "  print(\"\")"
      ],
      "execution_count": null,
      "outputs": []
    }
  ]
}