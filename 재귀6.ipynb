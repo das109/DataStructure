{
  "nbformat": 4,
  "nbformat_minor": 0,
  "metadata": {
    "colab": {
      "name": "재귀6.ipynb",
      "provenance": [],
      "collapsed_sections": []
    },
    "kernelspec": {
      "name": "python3",
      "display_name": "Python 3"
    },
    "language_info": {
      "name": "python"
    }
  },
  "cells": [
    {
      "cell_type": "code",
      "metadata": {
        "id": "EbvNW8NiEiLt"
      },
      "source": [
        "def gcd(a, b): \n",
        "  if (a < b): \n",
        "    tmp = a\n",
        "    a = b\n",
        "    b = tmp\n",
        "  if (b == 0):\n",
        "    return a\n",
        "  return gcd(b, a%b) \n",
        "\n",
        "\n",
        "a, b = input().split()\n",
        "\n",
        "print(gcd(int(a), int(b)))"
      ],
      "execution_count": null,
      "outputs": []
    }
  ]
}